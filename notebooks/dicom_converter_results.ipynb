{
 "cells": [
  {
   "cell_type": "code",
   "execution_count": 27,
   "metadata": {},
   "outputs": [],
   "source": [
    "import pandas as pd\n",
    "import json"
   ]
  },
  {
   "cell_type": "code",
   "execution_count": 28,
   "metadata": {},
   "outputs": [],
   "source": [
    "# make clean && make data-nifti"
   ]
  },
  {
   "cell_type": "code",
   "execution_count": 29,
   "metadata": {},
   "outputs": [],
   "source": [
    "# Ruta al archivo de resumen generado por make data-nifti\n",
    "summary_path = (\n",
    "    \"/Users/nacho/Desktop/code/DiaMond/data/processed/conversion_summary.json\"\n",
    ")\n",
    "\n",
    "# Cargar los resultados\n",
    "try:\n",
    "    with open(summary_path, \"r\") as f:\n",
    "        res = json.load(f)\n",
    "except FileNotFoundError:\n",
    "    print(f\"No se encontró el archivo: {summary_path}\")\n",
    "    print(\"Asegúrate de haber ejecutado 'make data-nifti' primero\")\n",
    "    res = {}"
   ]
  },
  {
   "cell_type": "code",
   "execution_count": 30,
   "metadata": {},
   "outputs": [
    {
     "data": {
      "text/plain": [
       "dict_keys(['success', 'failed', 'conversions', 'errors'])"
      ]
     },
     "execution_count": 30,
     "metadata": {},
     "output_type": "execute_result"
    }
   ],
   "source": [
    "res.keys()"
   ]
  },
  {
   "cell_type": "code",
   "execution_count": 31,
   "metadata": {},
   "outputs": [
    {
     "data": {
      "text/plain": [
       "(96, 74)"
      ]
     },
     "execution_count": 31,
     "metadata": {},
     "output_type": "execute_result"
    }
   ],
   "source": [
    "res[\"success\"], res[\"failed\"]"
   ]
  },
  {
   "cell_type": "code",
   "execution_count": 32,
   "metadata": {},
   "outputs": [
    {
     "data": {
      "text/html": [
       "<div>\n",
       "<style scoped>\n",
       "    .dataframe tbody tr th:only-of-type {\n",
       "        vertical-align: middle;\n",
       "    }\n",
       "\n",
       "    .dataframe tbody tr th {\n",
       "        vertical-align: top;\n",
       "    }\n",
       "\n",
       "    .dataframe thead th {\n",
       "        text-align: right;\n",
       "    }\n",
       "</style>\n",
       "<table border=\"1\" class=\"dataframe\">\n",
       "  <thead>\n",
       "    <tr style=\"text-align: right;\">\n",
       "      <th></th>\n",
       "      <th>subject_id</th>\n",
       "      <th>modality</th>\n",
       "      <th>output_path</th>\n",
       "    </tr>\n",
       "  </thead>\n",
       "  <tbody>\n",
       "    <tr>\n",
       "      <th>0</th>\n",
       "      <td>013_S_0699</td>\n",
       "      <td>mri</td>\n",
       "      <td>/Users/nacho/Desktop/code/DiaMond/data/process...</td>\n",
       "    </tr>\n",
       "    <tr>\n",
       "      <th>1</th>\n",
       "      <td>027_S_1254</td>\n",
       "      <td>mri</td>\n",
       "      <td>/Users/nacho/Desktop/code/DiaMond/data/process...</td>\n",
       "    </tr>\n",
       "    <tr>\n",
       "      <th>2</th>\n",
       "      <td>016_S_6926</td>\n",
       "      <td>mri</td>\n",
       "      <td>/Users/nacho/Desktop/code/DiaMond/data/process...</td>\n",
       "    </tr>\n",
       "    <tr>\n",
       "      <th>3</th>\n",
       "      <td>005_S_0223</td>\n",
       "      <td>mri</td>\n",
       "      <td>/Users/nacho/Desktop/code/DiaMond/data/process...</td>\n",
       "    </tr>\n",
       "    <tr>\n",
       "      <th>4</th>\n",
       "      <td>003_S_1059</td>\n",
       "      <td>mri</td>\n",
       "      <td>/Users/nacho/Desktop/code/DiaMond/data/process...</td>\n",
       "    </tr>\n",
       "    <tr>\n",
       "      <th>...</th>\n",
       "      <td>...</td>\n",
       "      <td>...</td>\n",
       "      <td>...</td>\n",
       "    </tr>\n",
       "    <tr>\n",
       "      <th>91</th>\n",
       "      <td>041_S_0549</td>\n",
       "      <td>pet</td>\n",
       "      <td>/Users/nacho/Desktop/code/DiaMond/data/process...</td>\n",
       "    </tr>\n",
       "    <tr>\n",
       "      <th>92</th>\n",
       "      <td>082_S_0641</td>\n",
       "      <td>mri</td>\n",
       "      <td>/Users/nacho/Desktop/code/DiaMond/data/process...</td>\n",
       "    </tr>\n",
       "    <tr>\n",
       "      <th>93</th>\n",
       "      <td>168_S_6426</td>\n",
       "      <td>mri</td>\n",
       "      <td>/Users/nacho/Desktop/code/DiaMond/data/process...</td>\n",
       "    </tr>\n",
       "    <tr>\n",
       "      <th>94</th>\n",
       "      <td>013_S_1161</td>\n",
       "      <td>mri</td>\n",
       "      <td>/Users/nacho/Desktop/code/DiaMond/data/process...</td>\n",
       "    </tr>\n",
       "    <tr>\n",
       "      <th>95</th>\n",
       "      <td>130_S_1200</td>\n",
       "      <td>mri</td>\n",
       "      <td>/Users/nacho/Desktop/code/DiaMond/data/process...</td>\n",
       "    </tr>\n",
       "  </tbody>\n",
       "</table>\n",
       "<p>96 rows × 3 columns</p>\n",
       "</div>"
      ],
      "text/plain": [
       "    subject_id modality                                        output_path\n",
       "0   013_S_0699      mri  /Users/nacho/Desktop/code/DiaMond/data/process...\n",
       "1   027_S_1254      mri  /Users/nacho/Desktop/code/DiaMond/data/process...\n",
       "2   016_S_6926      mri  /Users/nacho/Desktop/code/DiaMond/data/process...\n",
       "3   005_S_0223      mri  /Users/nacho/Desktop/code/DiaMond/data/process...\n",
       "4   003_S_1059      mri  /Users/nacho/Desktop/code/DiaMond/data/process...\n",
       "..         ...      ...                                                ...\n",
       "91  041_S_0549      pet  /Users/nacho/Desktop/code/DiaMond/data/process...\n",
       "92  082_S_0641      mri  /Users/nacho/Desktop/code/DiaMond/data/process...\n",
       "93  168_S_6426      mri  /Users/nacho/Desktop/code/DiaMond/data/process...\n",
       "94  013_S_1161      mri  /Users/nacho/Desktop/code/DiaMond/data/process...\n",
       "95  130_S_1200      mri  /Users/nacho/Desktop/code/DiaMond/data/process...\n",
       "\n",
       "[96 rows x 3 columns]"
      ]
     },
     "execution_count": 32,
     "metadata": {},
     "output_type": "execute_result"
    }
   ],
   "source": [
    "df = pd.DataFrame(res[\"conversions\"])\n",
    "df"
   ]
  },
  {
   "cell_type": "code",
   "execution_count": 33,
   "metadata": {},
   "outputs": [
    {
     "name": "stdout",
     "output_type": "stream",
     "text": [
      "Total de errores: 74\n"
     ]
    },
    {
     "data": {
      "text/html": [
       "<div>\n",
       "<style scoped>\n",
       "    .dataframe tbody tr th:only-of-type {\n",
       "        vertical-align: middle;\n",
       "    }\n",
       "\n",
       "    .dataframe tbody tr th {\n",
       "        vertical-align: top;\n",
       "    }\n",
       "\n",
       "    .dataframe thead th {\n",
       "        text-align: right;\n",
       "    }\n",
       "</style>\n",
       "<table border=\"1\" class=\"dataframe\">\n",
       "  <thead>\n",
       "    <tr style=\"text-align: right;\">\n",
       "      <th></th>\n",
       "      <th>subject_id</th>\n",
       "      <th>modality</th>\n",
       "      <th>error</th>\n",
       "    </tr>\n",
       "  </thead>\n",
       "  <tbody>\n",
       "    <tr>\n",
       "      <th>0</th>\n",
       "      <td>013_S_0699</td>\n",
       "      <td>pet</td>\n",
       "      <td>No se encontraron escaneos PET - Escaneos: {'f...</td>\n",
       "    </tr>\n",
       "    <tr>\n",
       "      <th>1</th>\n",
       "      <td>027_S_1254</td>\n",
       "      <td>pet</td>\n",
       "      <td>No se encontraron escaneos PET - Escaneos: {'f...</td>\n",
       "    </tr>\n",
       "    <tr>\n",
       "      <th>2</th>\n",
       "      <td>016_S_6926</td>\n",
       "      <td>pet</td>\n",
       "      <td>Todos los métodos de conversión fallaron, inst...</td>\n",
       "    </tr>\n",
       "    <tr>\n",
       "      <th>3</th>\n",
       "      <td>005_S_0223</td>\n",
       "      <td>pet</td>\n",
       "      <td>No se encontraron escaneos PET - Escaneos: {'f...</td>\n",
       "    </tr>\n",
       "    <tr>\n",
       "      <th>4</th>\n",
       "      <td>129_S_6763</td>\n",
       "      <td>pet</td>\n",
       "      <td>Todos los métodos de conversión fallaron, inst...</td>\n",
       "    </tr>\n",
       "    <tr>\n",
       "      <th>...</th>\n",
       "      <td>...</td>\n",
       "      <td>...</td>\n",
       "      <td>...</td>\n",
       "    </tr>\n",
       "    <tr>\n",
       "      <th>69</th>\n",
       "      <td>082_S_0641</td>\n",
       "      <td>pet</td>\n",
       "      <td>No se encontraron escaneos PET - Escaneos: {'f...</td>\n",
       "    </tr>\n",
       "    <tr>\n",
       "      <th>70</th>\n",
       "      <td>168_S_6426</td>\n",
       "      <td>pet</td>\n",
       "      <td>Todos los métodos de conversión fallaron, inst...</td>\n",
       "    </tr>\n",
       "    <tr>\n",
       "      <th>71</th>\n",
       "      <td>098_S_6707</td>\n",
       "      <td>pet</td>\n",
       "      <td>Todos los métodos de conversión fallaron, inst...</td>\n",
       "    </tr>\n",
       "    <tr>\n",
       "      <th>72</th>\n",
       "      <td>013_S_1161</td>\n",
       "      <td>pet</td>\n",
       "      <td>No se encontraron escaneos PET - Escaneos: {'f...</td>\n",
       "    </tr>\n",
       "    <tr>\n",
       "      <th>73</th>\n",
       "      <td>130_S_1200</td>\n",
       "      <td>pet</td>\n",
       "      <td>No se encontraron escaneos PET - Escaneos: {'f...</td>\n",
       "    </tr>\n",
       "  </tbody>\n",
       "</table>\n",
       "<p>74 rows × 3 columns</p>\n",
       "</div>"
      ],
      "text/plain": [
       "    subject_id modality                                              error\n",
       "0   013_S_0699      pet  No se encontraron escaneos PET - Escaneos: {'f...\n",
       "1   027_S_1254      pet  No se encontraron escaneos PET - Escaneos: {'f...\n",
       "2   016_S_6926      pet  Todos los métodos de conversión fallaron, inst...\n",
       "3   005_S_0223      pet  No se encontraron escaneos PET - Escaneos: {'f...\n",
       "4   129_S_6763      pet  Todos los métodos de conversión fallaron, inst...\n",
       "..         ...      ...                                                ...\n",
       "69  082_S_0641      pet  No se encontraron escaneos PET - Escaneos: {'f...\n",
       "70  168_S_6426      pet  Todos los métodos de conversión fallaron, inst...\n",
       "71  098_S_6707      pet  Todos los métodos de conversión fallaron, inst...\n",
       "72  013_S_1161      pet  No se encontraron escaneos PET - Escaneos: {'f...\n",
       "73  130_S_1200      pet  No se encontraron escaneos PET - Escaneos: {'f...\n",
       "\n",
       "[74 rows x 3 columns]"
      ]
     },
     "metadata": {},
     "output_type": "display_data"
    },
    {
     "name": "stdout",
     "output_type": "stream",
     "text": [
      "\n",
      "Errores por modalidad:\n"
     ]
    },
    {
     "data": {
      "text/plain": [
       "modality\n",
       "pet    74\n",
       "Name: count, dtype: int64"
      ]
     },
     "metadata": {},
     "output_type": "display_data"
    }
   ],
   "source": [
    "# Analizar errores de conversión\n",
    "if \"errors\" in res and res[\"errors\"]:\n",
    "    errors_df = pd.DataFrame(res[\"errors\"])\n",
    "    print(f\"Total de errores: {len(errors_df)}\")\n",
    "    display(errors_df)\n",
    "\n",
    "    # Contar errores por modalidad\n",
    "    print(\"\\nErrores por modalidad:\")\n",
    "    display(errors_df[\"modality\"].value_counts())\n",
    "else:\n",
    "    print(\"No se encontraron errores en la conversión\")"
   ]
  },
  {
   "cell_type": "code",
   "execution_count": 34,
   "metadata": {},
   "outputs": [
    {
     "data": {
      "text/plain": [
       "error\n",
       "No se encontraron escaneos PET - Escaneos: {'fdg': [], 'av45': [], 'pib': [], 'fbb': []}                                                                                                                                           49\n",
       "Todos los métodos de conversión fallaron, instale dcm2niix para un mejor soporte.\\nDetalles: dcm2niix no pudo convertir los archivos o no está instalado\\nMúltiples archivos DICOM detectados. Se recomienda instalar dcm2niix.    25\n",
       "Name: count, dtype: int64"
      ]
     },
     "execution_count": 34,
     "metadata": {},
     "output_type": "execute_result"
    }
   ],
   "source": [
    "errors_df[\"error\"].value_counts()"
   ]
  },
  {
   "cell_type": "code",
   "execution_count": 35,
   "metadata": {},
   "outputs": [
    {
     "data": {
      "text/plain": [
       "dict_keys(['success', 'failed', 'conversions', 'errors'])"
      ]
     },
     "execution_count": 35,
     "metadata": {},
     "output_type": "execute_result"
    }
   ],
   "source": [
    "res.keys()"
   ]
  },
  {
   "cell_type": "code",
   "execution_count": 36,
   "metadata": {},
   "outputs": [
    {
     "data": {
      "text/plain": [
       "(96, 74)"
      ]
     },
     "execution_count": 36,
     "metadata": {},
     "output_type": "execute_result"
    }
   ],
   "source": [
    "res[\"success\"], res[\"failed\"]"
   ]
  },
  {
   "cell_type": "code",
   "execution_count": 37,
   "metadata": {},
   "outputs": [
    {
     "data": {
      "text/plain": [
       "modality\n",
       "mri    80\n",
       "pet    16\n",
       "Name: count, dtype: int64"
      ]
     },
     "execution_count": 37,
     "metadata": {},
     "output_type": "execute_result"
    }
   ],
   "source": [
    "df[\"modality\"].value_counts()"
   ]
  }
 ],
 "metadata": {
  "kernelspec": {
   "display_name": "diamond",
   "language": "python",
   "name": "python3"
  },
  "language_info": {
   "codemirror_mode": {
    "name": "ipython",
    "version": 3
   },
   "file_extension": ".py",
   "mimetype": "text/x-python",
   "name": "python",
   "nbconvert_exporter": "python",
   "pygments_lexer": "ipython3",
   "version": "3.12.9"
  }
 },
 "nbformat": 4,
 "nbformat_minor": 2
}
